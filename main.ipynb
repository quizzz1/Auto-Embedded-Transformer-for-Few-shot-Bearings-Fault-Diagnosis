{
 "cells": [
  {
   "cell_type": "markdown",
   "id": "cbde93ae",
   "metadata": {},
   "source": [
    "## 内容：\n",
    "基于transformer分类故障，再利用注意力权重做可解释。\n",
    "\n",
    "\n",
    "## 数据：\n",
    "CWRU： 正常 + 3种故障程度*（外圈+内圈+滚子） = 10种类别\n",
    "\n"
   ]
  },
  {
   "cell_type": "code",
   "execution_count": 1,
   "id": "a4214b6e",
   "metadata": {
    "ExecuteTime": {
     "end_time": "2023-10-26T13:51:32.211461Z",
     "start_time": "2023-10-26T13:51:24.916467Z"
    }
   },
   "outputs": [
    {
     "name": "stdout",
     "output_type": "stream",
     "text": [
      "2.10.0\n",
      "True\n",
      "[PhysicalDevice(name='/physical_device:GPU:0', device_type='GPU')]\n"
     ]
    }
   ],
   "source": [
    "import numpy as np\n",
    "import tensorflow as tf\n",
    "import scipy\n",
    "import scipy.io as scio\n",
    "from scipy import signal\n",
    "import pandas as pd\n",
    "import os\n",
    "import matplotlib.pyplot as plt\n",
    "import time\n",
    "from sklearn.metrics import confusion_matrix\n",
    "import seaborn as sns\n",
    "from sklearn.model_selection import train_test_split\n",
    "from PIL import Image\n",
    "\n",
    "# import pywt\n",
    "from tqdm import tqdm\n",
    "from sklearn.manifold import TSNE\n",
    "from collections import Counter\n",
    "from glob import glob\n",
    "import cv2\n",
    "\n",
    "print(tf.__version__)\n",
    "print(tf.test.is_built_with_cuda())\n",
    "print(tf.config.list_physical_devices(\"GPU\"))\n",
    "# print(tf.config.experimental.get_device_details())"
   ]
  },
  {
   "cell_type": "markdown",
   "id": "187b41c1",
   "metadata": {},
   "source": [
    "# 全局设置"
   ]
  },
  {
   "cell_type": "code",
   "execution_count": 2,
   "id": "7767db6b",
   "metadata": {
    "ExecuteTime": {
     "end_time": "2023-10-26T13:52:01.076747Z",
     "start_time": "2023-10-26T13:52:01.061230Z"
    }
   },
   "outputs": [
    {
     "name": "stdout",
     "output_type": "stream",
     "text": [
      "_TIME-(2024-01-16)-(23-21-16)_\n",
      "文件夹 ./save/temp/File_TIME-(2024-01-16)-(23-21-16)_/save/ 创建成功！\n"
     ]
    }
   ],
   "source": [
    "# print(plt.rcParams.keys())\n",
    "\n",
    "plt.rcParams.update(\n",
    "    {\n",
    "        \"font.family\": \"Times New Roman\",  # monospace   \"Times New Roman\"  cursive\n",
    "        \"font.size\": 10,\n",
    "        \"figure.dpi\": 150,\n",
    "        # dpi=150,显示得图片大小合适，保存时，设置更高dpi即可\n",
    "        \"axes.titlesize\": 10,\n",
    "        \"axes.labelsize\": 10,\n",
    "        \"legend.fontsize\": 9,\n",
    "        \"legend.edgecolor\": \"0.5\",\n",
    "        \"legend.fancybox\": False,\n",
    "        \"legend.markerscale\": 1.0,\n",
    "        \"legend.frameon\": False,\n",
    "        \"xtick.labelsize\": 9,\n",
    "        \"ytick.labelsize\": 9,\n",
    "        \"grid.alpha\": 0.5,\n",
    "        \"grid.linestyle\": \"--\",\n",
    "        \"savefig.dpi\": 600,\n",
    "    }\n",
    ")\n",
    "\n",
    "\n",
    "def get_date():\n",
    "    now_time = list(time.localtime(time.time()))\n",
    "    now_time = \"_TIME-({0:4d}-{1:02d}-{2:02d})-({3:02d}-{4:02d}-{5:02d})_\".format(\n",
    "        now_time[0],\n",
    "        now_time[1],\n",
    "        now_time[2],\n",
    "        now_time[3],\n",
    "        now_time[4],\n",
    "        now_time[5],\n",
    "    )\n",
    "    return now_time\n",
    "\n",
    "\n",
    "now_time = get_date()\n",
    "print(now_time)\n",
    "\n",
    "\n",
    "Health_status = [\"NC\", \"OF1\", \"IF1\", \"RF1\", \"OF2\", \"IF2\", \"RF2\", \"OF3\", \"IF3\", \"RF3\"]\n",
    "\n",
    "\n",
    "def normalF(x):\n",
    "    mean = np.mean(x)\n",
    "    std = np.std(x)\n",
    "    new_x = (x - mean) / (std + 1e-6)\n",
    "    return new_x\n",
    "\n",
    "\n",
    "def scaleF(x):\n",
    "    mi = np.min(x)\n",
    "    ma = np.max(x)\n",
    "    new_x = (x - mi) / (ma - mi + 1e-6)\n",
    "    new_x = new_x * 2 - 1\n",
    "    return new_x\n",
    "\n",
    "\n",
    "BATCH_SIZE = 64\n",
    "CWT_SCAL_NUM = 128\n",
    "\n",
    "IMG_WIDTH = 256\n",
    "IMG_HEIGHT = 64\n",
    "\n",
    "SIGNAL_LENGTH = 2048\n",
    "\n",
    "dta_R_date = r\"TEST_\"\n",
    "save_path = r\"./save/temp/File{}/\".format(now_time)\n",
    "\n",
    "if not os.path.isdir(save_path):\n",
    "    os.makedirs(save_path)\n",
    "    save_path = save_path + \"save/\"\n",
    "    os.makedirs(save_path)\n",
    "    print(f\"文件夹 {save_path} 创建成功！\")\n",
    "else:\n",
    "    print(f\"文件夹 {save_path} 已存在。\")"
   ]
  },
  {
   "cell_type": "markdown",
   "id": "a895f93d",
   "metadata": {},
   "source": [
    "# load_data"
   ]
  },
  {
   "cell_type": "code",
   "execution_count": 3,
   "id": "27e2ad06",
   "metadata": {
    "ExecuteTime": {
     "end_time": "2023-10-26T13:52:13.541848Z",
     "start_time": "2023-10-26T13:52:09.181366Z"
    }
   },
   "outputs": [
    {
     "name": "stdout",
     "output_type": "stream",
     "text": [
      "(640, 256, 64) (640,)\n"
     ]
    }
   ],
   "source": [
    "def load_data(folder=\"CWRU\\Drive_end_*\\*\\*.png\", file_type=\"png\", strides=1):\n",
    "    all_filenemas = glob(\"CWRU\\Drive_end_*\\*\\*.png\")\n",
    "\n",
    "    if file_type in [\"jpg\", \"both\", \"png\"]:\n",
    "        filenemas = all_filenemas[::strides]\n",
    "        # data_jpg = np.array([plt.imread(file)[:, :, 0] for file in filenemas])\n",
    "        data_jpg = []\n",
    "        for file in filenemas:\n",
    "            img = cv2.imread(file)[:, :, 0]\n",
    "            img = cv2.resize(img, [IMG_WIDTH, IMG_HEIGHT])\n",
    "            data_jpg.append(img)\n",
    "        data_jpg = np.array(data_jpg)\n",
    "        data_jpg = np.transpose(data_jpg, axes=[0, 2, 1])\n",
    "        # N, H, W = data_jpg.shape\n",
    "        # data_jpg = data_jpg.reshape(-1, 2048, 1)\n",
    "        # print(N, H, W)\n",
    "        data_jpg = data_jpg / 255.0\n",
    "        labels_jpg = np.array(\n",
    "            [int(file.split(\"\\\\\")[-1].split(\"_\")[1]) for file in filenemas]\n",
    "        )\n",
    "\n",
    "    if file_type == \"jpg\":\n",
    "        return data_jpg, labels_jpg\n",
    "\n",
    "    if file_type == \"png\":\n",
    "        return data_jpg, labels_jpg\n",
    "\n",
    "\n",
    "temp_data, temp_labels = load_data(file_type=\"png\", strides=10)\n",
    "print(temp_data.shape, temp_labels.shape)"
   ]
  },
  {
   "cell_type": "markdown",
   "id": "7de0665a",
   "metadata": {},
   "source": [
    "## plot_signal"
   ]
  },
  {
   "cell_type": "code",
   "execution_count": 4,
   "id": "d07c0b94",
   "metadata": {
    "ExecuteTime": {
     "end_time": "2023-10-26T13:52:13.712815Z",
     "start_time": "2023-10-26T13:52:13.574506Z"
    },
    "scrolled": true
   },
   "outputs": [],
   "source": [
    "def plot_signal(\n",
    "    x,\n",
    "    t=None,\n",
    "    figsize=(4, 0.8),\n",
    "    tit=None,\n",
    "    xlb=\"Time(s)\",\n",
    "    ylb=\"Amplitude\",\n",
    "    axis_off=False,\n",
    "    sp=None,\n",
    "):\n",
    "    plt.figure(figsize=figsize)\n",
    "    if t is not None:\n",
    "        plt.plot(t, x, linewidth=0.7)\n",
    "        plt.xlim(t[0], t[-1])\n",
    "    else:\n",
    "        plt.plot(x, linewidth=0.7)\n",
    "        plt.xlim(0, len(x))\n",
    "\n",
    "    if xlb is not None:\n",
    "        plt.xlabel(xlb)\n",
    "    if ylb is not None:\n",
    "        plt.ylabel(ylb)\n",
    "    if tit is not None:\n",
    "        plt.title(tit)\n",
    "    if axis_off:\n",
    "        plt.axis(\"off\")\n",
    "    if sp is not None:\n",
    "        plt.savefig(sp + tit + \".png\", bbox_inches=\"tight\")\n",
    "        plt.savefig(sp + tit + \".svg\", bbox_inches=\"tight\")\n",
    "    plt.show()\n",
    "    return\n",
    "\n",
    "\n",
    "def show_matrix(\n",
    "    x,\n",
    "    figsize=(3, 1),\n",
    "    tit=None,\n",
    "    xlb=None,\n",
    "    ylb=None,\n",
    "    axis_off=False,\n",
    "    need_colorbar=False,\n",
    "    sp=None,\n",
    "):\n",
    "    plt.figure(figsize=figsize)\n",
    "    plt.contourf(x, levels=16, cmap=None)\n",
    "\n",
    "    if xlb is not None:\n",
    "        plt.xlabel(xlb)\n",
    "    if ylb is not None:\n",
    "        plt.ylabel(ylb)\n",
    "    if tit is not None:\n",
    "        plt.title(tit)\n",
    "    if need_colorbar:\n",
    "        plt.colorbar(shrink=0.99)\n",
    "    if axis_off:\n",
    "        plt.axis(\"off\")\n",
    "    if sp is not None:\n",
    "        plt.savefig(sp + tit + \".png\", bbox_inches=\"tight\")\n",
    "        plt.savefig(sp + tit + \".svg\", bbox_inches=\"tight\")\n",
    "    plt.show()\n",
    "    return\n",
    "\n",
    "\n",
    "def show_attention(\n",
    "    x,\n",
    "    figsize=(3, 1),\n",
    "    tit=None,\n",
    "    xlb=\"Position\",\n",
    "    ylb=\"Attention\",\n",
    "    axis_off=False,\n",
    "    need_colorbar=False,\n",
    "    sp=None,\n",
    "):\n",
    "    plt.figure(figsize=figsize)\n",
    "    plt.contourf(x, levels=4, cmap=\"inferno\")\n",
    "\n",
    "    if xlb is not None:\n",
    "        plt.xlabel(xlb)\n",
    "    if ylb is not None:\n",
    "        plt.ylabel(ylb)\n",
    "    if tit is not None:\n",
    "        plt.title(tit)\n",
    "    if need_colorbar:\n",
    "        plt.colorbar(shrink=0.99)\n",
    "    if axis_off:\n",
    "        plt.axis(\"off\")\n",
    "    if sp is not None:\n",
    "        plt.savefig(sp + tit + \".png\", bbox_inches=\"tight\")\n",
    "        plt.savefig(sp + tit + \".svg\", bbox_inches=\"tight\")\n",
    "    plt.show()\n",
    "    return\n",
    "\n",
    "\n",
    "def plot_qk_curves(\n",
    "    q,\n",
    "    k,\n",
    "    figsize=(3, 1),\n",
    "    tit=None,\n",
    "    xlb=\"Position\",\n",
    "    ylb=\"Attention\",\n",
    "    axis_off=False,\n",
    "    sp=None,\n",
    "):\n",
    "    plt.figure(figsize=figsize)\n",
    "    plt.plot(q, label=\"Query\")\n",
    "    plt.plot(k, label=\"Key\")\n",
    "    plt.legend()\n",
    "    plt.xlim(0, len(q))\n",
    "\n",
    "    if xlb is not None:\n",
    "        plt.xlabel(xlb)\n",
    "    if ylb is not None:\n",
    "        plt.ylabel(ylb)\n",
    "    if tit is not None:\n",
    "        plt.title(tit)\n",
    "    if axis_off:\n",
    "        plt.axis(\"off\")\n",
    "    if sp is not None:\n",
    "        plt.savefig(sp + tit + \".png\", bbox_inches=\"tight\")\n",
    "        plt.savefig(sp + tit + \".svg\", bbox_inches=\"tight\")\n",
    "    plt.show()\n",
    "    return"
   ]
  },
  {
   "cell_type": "markdown",
   "id": "4152dc7c",
   "metadata": {},
   "source": [
    "# get_tra_tes_ds"
   ]
  },
  {
   "cell_type": "code",
   "execution_count": 5,
   "id": "f0a76870",
   "metadata": {
    "ExecuteTime": {
     "end_time": "2023-10-26T13:52:15.154648Z",
     "start_time": "2023-10-26T13:52:13.762407Z"
    }
   },
   "outputs": [],
   "source": [
    "traXs, tesXs, traYs, tesYs = train_test_split(\n",
    "    temp_data, temp_labels, test_size=0.20, shuffle=True, random_state=19960103\n",
    ")"
   ]
  },
  {
   "cell_type": "code",
   "execution_count": 6,
   "id": "1f5240bf",
   "metadata": {},
   "outputs": [
    {
     "name": "stdout",
     "output_type": "stream",
     "text": [
      "traXs.shape,  traYs.shape, traYs[:10]\t\t(512, 256, 64)\t(512,)\t[4 2 3 7 0 1 5 4 2 4]\n",
      "tesXs.shape,  tesYs.shape, tesYs[:10]\t\t(128, 256, 64)\t(128,)\t[5 1 0 0 1 5 6 5 7 2]\n",
      "tra_bX.shape, tra_bY.shape, tra_bY.numpy()[:10]\t(64, 256, 64)\t(64,)\t[1 7 1 1 7 4 2 0 0 2]\n",
      "tes_bX.shape, tes_bY.shape, tes_bY.numpy()[:10]\t(64, 256, 64)\t(64,)\t[2 4 5 6 0 2 1 7 7 7]\n"
     ]
    }
   ],
   "source": [
    "# 22-9-5\n",
    "def get_tra_tes_ds(traXs, tesXs, traYs, tesYs, BS=BATCH_SIZE, is_train=False):\n",
    "    [traXs, tesXs, traYs, tesYs] = [\n",
    "        np.array(item) for item in [traXs, tesXs, traYs, tesYs]\n",
    "    ]  # list格式转成np.array好索引\n",
    "    print(\n",
    "        \"traXs.shape,  traYs.shape, traYs[:10]\\t\",\n",
    "        traXs.shape,\n",
    "        traYs.shape,\n",
    "        traYs[:10],\n",
    "        sep=\"\\t\",\n",
    "    )\n",
    "    print(\n",
    "        \"tesXs.shape,  tesYs.shape, tesYs[:10]\\t\",\n",
    "        tesXs.shape,\n",
    "        tesYs.shape,\n",
    "        tesYs[:10],\n",
    "        sep=\"\\t\",\n",
    "    )\n",
    "    tra_ds = (\n",
    "        tf.data.Dataset.from_tensor_slices((traXs, traYs))\n",
    "        .repeat()\n",
    "        .shuffle(len(traXs))\n",
    "        .batch(BS, drop_remainder=True)\n",
    "        .prefetch(2)\n",
    "    )\n",
    "    tes_ds = (\n",
    "        tf.data.Dataset.from_tensor_slices((tesXs, tesYs))\n",
    "        .repeat()\n",
    "        .shuffle(len(traXs))\n",
    "        .batch(BS)\n",
    "        .prefetch(2)\n",
    "    )\n",
    "    return tra_ds, tes_ds\n",
    "\n",
    "\n",
    "tra_ds, tes_ds = get_tra_tes_ds(traXs, tesXs, traYs, tesYs)\n",
    "\n",
    "tra_bX, tra_bY = next(iter(tra_ds))\n",
    "print(\n",
    "    \"tra_bX.shape, tra_bY.shape, tra_bY.numpy()[:10]\",\n",
    "    tra_bX.shape,\n",
    "    tra_bY.shape,\n",
    "    tra_bY.numpy()[:10],\n",
    "    sep=\"\\t\",\n",
    ")\n",
    "\n",
    "tes_bX, tes_bY = next(iter(tes_ds))\n",
    "print(\n",
    "    \"tes_bX.shape, tes_bY.shape, tes_bY.numpy()[:10]\",\n",
    "    tes_bX.shape,\n",
    "    tes_bY.shape,\n",
    "    tes_bY.numpy()[:10],\n",
    "    sep=\"\\t\",\n",
    ")"
   ]
  },
  {
   "cell_type": "markdown",
   "id": "f1c2cc84",
   "metadata": {},
   "source": [
    "# 加载数据"
   ]
  },
  {
   "cell_type": "markdown",
   "id": "893cbc00",
   "metadata": {},
   "source": [
    "## get_batch_from_path"
   ]
  },
  {
   "cell_type": "code",
   "execution_count": 7,
   "id": "b6c496b3",
   "metadata": {
    "ExecuteTime": {
     "end_time": "2023-10-26T13:52:18.807342Z",
     "start_time": "2023-10-26T13:52:15.203509Z"
    },
    "scrolled": false
   },
   "outputs": [
    {
     "name": "stdout",
     "output_type": "stream",
     "text": [
      "Train number =   256, Test number =  1024\n",
      "Counter({6: 32, 2: 32, 4: 32, 0: 32, 5: 32, 1: 32, 3: 32, 7: 32}) Counter({6: 128, 0: 128, 5: 128, 7: 128, 3: 128, 2: 128, 4: 128, 1: 128}) 4.0\n",
      "traXs.shape,  traYs.shape, traYs[:10]\t\t(256, 256, 64)\t(256,)\t[6 2 4 0 5 0 1 4 0 4]\n",
      "tesXs.shape,  tesYs.shape, tesYs[:10]\t\t(1024, 256, 64)\t(1024,)\t[6 0 5 7 0 3 2 4 0 0]\n",
      "tra_bX.shape, tra_bY.shape, tra_bY.numpy()[:10]\t(64, 256, 64)\t(64,)\t[6 6 2 3 4 1 1 3 6 6]\n",
      "tes_bX.shape, tes_bY.shape, tes_bY.numpy()[:10]\t(64, 256, 64)\t(64,)\t[2 5 7 2 6 3 0 4 1 1]\n",
      "Dataset OK!!!!!!!!!!!!!!!!!!!!!!!!!!!!!!!! \n",
      "\n",
      "\n"
     ]
    }
   ],
   "source": [
    "def get_batch_from_path(\n",
    "    file_type=\"png\",\n",
    "    strides=5,  # STRIDES为5时，每类有100样本\n",
    "    train_rate=0.2,\n",
    "    seed=19960103,\n",
    "):\n",
    "    \"\"\"本项目里面，数据加载的最高级封装，\n",
    "    依据数据集的名字和工况加载对应数据，\n",
    "    CWRU：加载对应工况下，正常 + 3程度*3故障类别/程度 的 10 类数据\n",
    "    B02022：加载对应工况下，正常 + 2程度*3故障类别/程度 的 7 类数据\n",
    "    加载好的数据，需要返回划分好的traXs,traYs, tesXs,tesYs\n",
    "    以及，tra_ds, tes_ds\n",
    "    \"\"\"\n",
    "\n",
    "    # 加载数据\n",
    "    all_Xs, all_Ys = load_data(file_type=file_type, strides=strides)\n",
    "    CLS_NUM = 10\n",
    "\n",
    "    traXs, tesXs, traYs, tesYs = train_test_split(\n",
    "        all_Xs,\n",
    "        all_Ys,\n",
    "        test_size=1 - train_rate,\n",
    "        shuffle=True,\n",
    "        random_state=seed,\n",
    "        stratify=all_Ys,\n",
    "    )\n",
    "    print(\"Train number = {0:5d}, Test number = {1:5d}\".format(len(traXs), len(tesXs)))\n",
    "    print(Counter(traYs), Counter(tesYs), sum(tesYs) / sum(traYs))\n",
    "\n",
    "    tra_ds, tes_ds = get_tra_tes_ds(traXs, tesXs, traYs, tesYs)\n",
    "\n",
    "    tra_bX, tra_bY = next(iter(tra_ds))\n",
    "    print(\n",
    "        \"tra_bX.shape, tra_bY.shape, tra_bY.numpy()[:10]\",\n",
    "        tra_bX.shape,\n",
    "        tra_bY.shape,\n",
    "        tra_bY.numpy()[:10],\n",
    "        sep=\"\\t\",\n",
    "    )\n",
    "\n",
    "    tes_bX, tes_bY = next(iter(tes_ds))\n",
    "    print(\n",
    "        \"tes_bX.shape, tes_bY.shape, tes_bY.numpy()[:10]\",\n",
    "        tes_bX.shape,\n",
    "        tes_bY.shape,\n",
    "        tes_bY.numpy()[:10],\n",
    "        sep=\"\\t\",\n",
    "    )\n",
    "    print(\"Dataset OK!!!!!!!!!!!!!!!!!!!!!!!!!!!!!!!! \\n\\n\")\n",
    "\n",
    "    return (traXs, tesXs, traYs, tesYs), (tra_ds, tes_ds), CLS_NUM\n",
    "\n",
    "\n",
    "(traXs, tesXs, traYs, tesYs), (tra_ds, tes_ds), CLS_NUM = get_batch_from_path()"
   ]
  },
  {
   "cell_type": "markdown",
   "id": "6fd17580",
   "metadata": {},
   "source": [
    "# 构建模型\n",
    "##   MLP + BiLSTM + CNN + ResNet"
   ]
  },
  {
   "cell_type": "code",
   "execution_count": 8,
   "id": "d1072219",
   "metadata": {
    "ExecuteTime": {
     "end_time": "2023-10-26T13:52:27.547519Z",
     "start_time": "2023-10-26T13:52:26.841519Z"
    }
   },
   "outputs": [
    {
     "name": "stdout",
     "output_type": "stream",
     "text": [
      "MLP (None, 2048, 1) (None, 64) 540992\n",
      "LSTM (None, 2048, 1) (None, 64) 72320\n",
      "CNN (None, 2048, 1) (None, 64) 92416\n",
      "Res (None, 2048, 1) (None, 64) 117120\n"
     ]
    }
   ],
   "source": [
    "from functions.models_building import get_CNN, get_ResNet, get_HCM, get_MLP, get_BiLSTM\n",
    "\n",
    "CWT_SHAPE = (256, 64)\n",
    "SIG_SHAPE = (2048, 1)\n",
    "MLP = get_MLP(input_shape=SIG_SHAPE)\n",
    "# print( MLP.summary() )\n",
    "print(\"MLP\", MLP.input_shape, MLP.output_shape, MLP.count_params())\n",
    "\n",
    "LSTM = get_BiLSTM(input_shape=SIG_SHAPE)\n",
    "# print( LSTM.summary() )\n",
    "print(\"LSTM\", LSTM.input_shape, LSTM.output_shape, LSTM.count_params())\n",
    "\n",
    "CNN = get_CNN(input_shape=SIG_SHAPE)\n",
    "# print( CNN.summary() )\n",
    "print(\"CNN\", CNN.input_shape, CNN.output_shape, CNN.count_params())\n",
    "\n",
    "\n",
    "ResNet = get_ResNet(input_shape=SIG_SHAPE)\n",
    "# print( ResNet.summary()  )\n",
    "print(\"Res\", ResNet.input_shape, ResNet.output_shape, ResNet.count_params())"
   ]
  },
  {
   "cell_type": "markdown",
   "id": "41e2f771",
   "metadata": {},
   "source": [
    "## Transformer"
   ]
  },
  {
   "cell_type": "code",
   "execution_count": 9,
   "id": "05967f86",
   "metadata": {
    "ExecuteTime": {
     "end_time": "2023-10-26T13:52:51.460271Z",
     "start_time": "2023-10-26T13:52:46.595622Z"
    },
    "scrolled": true
   },
   "outputs": [
    {
     "name": "stdout",
     "output_type": "stream",
     "text": [
      "2.10.0\n"
     ]
    }
   ],
   "source": [
    "import tensorflow as tf\n",
    "\n",
    "# from functions.AET_model_building import get_ST,get_NET,get_AET\n",
    "from functions.AET_models import get_ST, get_NET, get_AET\n",
    "\n",
    "x = np.ones(shape=(10, 256, 64))\n",
    "st = get_ST(num_layers=3, need_show=True)"
   ]
  },
  {
   "cell_type": "code",
   "execution_count": 10,
   "id": "f9194ab7",
   "metadata": {
    "ExecuteTime": {
     "end_time": "2023-10-26T13:52:51.739573Z",
     "start_time": "2023-10-26T13:52:51.523858Z"
    },
    "scrolled": true
   },
   "outputs": [
    {
     "data": {
      "text/plain": [
       "(TensorShape([10, 64]), 221632)"
      ]
     },
     "execution_count": 10,
     "metadata": {},
     "output_type": "execute_result"
    }
   ],
   "source": [
    "net = get_NET(num_layers=3, need_show=True)\n",
    "net(x).shape, net.count_params()"
   ]
  },
  {
   "cell_type": "code",
   "execution_count": 11,
   "id": "f706bbff",
   "metadata": {
    "ExecuteTime": {
     "end_time": "2023-10-26T13:52:53.400122Z",
     "start_time": "2023-10-26T13:52:52.543125Z"
    },
    "scrolled": true
   },
   "outputs": [
    {
     "name": "stdout",
     "output_type": "stream",
     "text": [
      "\n",
      "                  # 输入 2D信号 的参数\n",
      "                  cwt_data                \t = \t True,\n",
      "                  cwt_shape               \t = \t (256, 64),\n",
      "                  cwt_patch               \t = \t (8, 8),\n",
      "                  cwt_embedding_way       \t = \t Linear,\n",
      "                  \n",
      "                  # 输入 1D信号 的参数\n",
      "                  sig_data                \t = \t False,\n",
      "                  sig_shape               \t = \t (2048, 1),\n",
      "                  sig_patch               \t = \t (64,),\n",
      "                  sig_embedding_way       \t = \t Linear,\n",
      "    \n",
      "                  # Transformer的参数\n",
      "                  positional_encoding_way \t = \t trainable,\n",
      "                  num_layers              \t = \t 6,\n",
      "                  cls_token               \t = \t True,\n",
      "                  \n",
      "                  # Encoder_Layer 的参数\n",
      "                  d_model                 \t = \t 64,\n",
      "                  num_heads               \t = \t 4,\n",
      "                  rate                    \t = \t 0.1,  \n",
      "                  \n",
      "                  cwt_position_num        \t = \t 256,\n",
      "                  sig_position_num        \t = \t 0,\n",
      "                  num_positions           \t = \t 257,\n",
      "                  out_shape               \t = \t (None, 64)\n",
      "                  \n"
     ]
    },
    {
     "data": {
      "text/plain": [
       "(TensorShape([64]), TensorShape([64]), 221632)"
      ]
     },
     "execution_count": 11,
     "metadata": {},
     "output_type": "execute_result"
    }
   ],
   "source": [
    "aet = get_AET(num_layers=3, need_show=True)\n",
    "aet(x)[0].shape, aet(x)[1].shape, aet.count_params()"
   ]
  },
  {
   "cell_type": "markdown",
   "id": "5239873d",
   "metadata": {},
   "source": [
    "## get_model"
   ]
  },
  {
   "cell_type": "code",
   "execution_count": 12,
   "id": "1d9ac3c5",
   "metadata": {
    "ExecuteTime": {
     "end_time": "2023-10-26T13:52:55.287330Z",
     "start_time": "2023-10-26T13:52:55.035220Z"
    },
    "scrolled": false
   },
   "outputs": [
    {
     "name": "stdout",
     "output_type": "stream",
     "text": [
      "GGGGGGGGGGGGGGGet Modellllllllllll \n",
      " FEM_name=AET,   CLS_NUM=10,  need_BA=None\n",
      "    \n",
      "\n",
      "                  # 输入 2D信号 的参数\n",
      "                  cwt_data                \t = \t True,\n",
      "                  cwt_shape               \t = \t (256, 64),\n",
      "                  cwt_patch               \t = \t (8, 8),\n",
      "                  cwt_embedding_way       \t = \t Linear,\n",
      "                  \n",
      "                  # 输入 1D信号 的参数\n",
      "                  sig_data                \t = \t False,\n",
      "                  sig_shape               \t = \t (2048, 1),\n",
      "                  sig_patch               \t = \t (64,),\n",
      "                  sig_embedding_way       \t = \t Linear,\n",
      "    \n",
      "                  # Transformer的参数\n",
      "                  positional_encoding_way \t = \t trainable,\n",
      "                  num_layers              \t = \t 6,\n",
      "                  cls_token               \t = \t True,\n",
      "                  \n",
      "                  # Encoder_Layer 的参数\n",
      "                  d_model                 \t = \t 64,\n",
      "                  num_heads               \t = \t 4,\n",
      "                  rate                    \t = \t 0.1,  \n",
      "                  \n",
      "                  cwt_position_num        \t = \t 256,\n",
      "                  sig_position_num        \t = \t 0,\n",
      "                  num_positions           \t = \t 257,\n",
      "                  out_shape               \t = \t (None, 64)\n",
      "                  \n",
      "basic FEM  is  AET \t feature_dim =  64\n",
      "temp_FEM_out[0].shape  (64,)\n",
      "temp_FEM_out[1].shape  (64,)\n",
      "temp_HCM.input_shape  (None, 64)\n"
     ]
    },
    {
     "data": {
      "text/plain": [
       "221632"
      ]
     },
     "execution_count": 12,
     "metadata": {},
     "output_type": "execute_result"
    }
   ],
   "source": [
    "# 22-10-12: 都是 1D 信号，ST的一步下采样为线性32，NET多步下采样为非线性32，AET多步下采样为非线性32,并自监督学习\n",
    "def get_model(FEM_name, CLS_NUM, num_layers=6):\n",
    "    print(\n",
    "        \"\"\"GGGGGGGGGGGGGGGet Modellllllllllll \\n FEM_name={},   CLS_NUM={},  need_BA={}\n",
    "    \"\"\".format(FEM_name, CLS_NUM, None)\n",
    "    )\n",
    "    assert FEM_name in [\"MLP\", \"BiLSTM\", \"CNN\", \"ResNet\", \"ST\", \"NET\", \"AET\"]\n",
    "    shape1 = (SIGNAL_LENGTH, 1)\n",
    "    shape2 = (IMG_WIDTH, IMG_HEIGHT)\n",
    "\n",
    "    \"\"\"特征提取器模型：FEM \"\"\"\n",
    "    if FEM_name == \"MLP\":\n",
    "        FEM = get_MLP(input_shape=shape1)\n",
    "        feature_dim = FEM.output_shape[-1]\n",
    "    if FEM_name == \"BiLSTM\":\n",
    "        FEM = get_BiLSTM(input_shape=shape1)\n",
    "        feature_dim = FEM.output_shape[-1]\n",
    "    if FEM_name == \"CNN\":\n",
    "        FEM = get_CNN(input_shape=shape1)\n",
    "        feature_dim = FEM.output_shape[-1]\n",
    "    if FEM_name == \"ResNet\":\n",
    "        FEM = get_ResNet(input_shape=shape1)\n",
    "        feature_dim = FEM.output_shape[-1]\n",
    "\n",
    "    if FEM_name == \"ST\":\n",
    "        FEM = get_ST(num_layers=num_layers, need_show=True)\n",
    "        feature_dim = FEM.out_shape[-1]\n",
    "    if FEM_name == \"NET\":\n",
    "        FEM = get_NET(num_layers=num_layers, need_show=True)\n",
    "        feature_dim = FEM.out_shape[-1]\n",
    "    if FEM_name == \"AET\":\n",
    "        FEM = get_AET(num_layers=num_layers, need_show=True)\n",
    "        feature_dim = FEM.out_shape[-1]\n",
    "    print(\"basic FEM  is \", FEM.name, \"\\t feature_dim = \", feature_dim)\n",
    "\n",
    "    \"\"\"健康分类器模型：Health classifier model\"\"\"\n",
    "    HCM = get_HCM(dim_in=feature_dim, dim_out=CLS_NUM)\n",
    "\n",
    "    return FEM, HCM\n",
    "\n",
    "\n",
    "temp_models = get_model(\n",
    "    FEM_name=\"AET\",\n",
    "    CLS_NUM=10,\n",
    ")\n",
    "temp_FEM, temp_HCM = temp_models\n",
    "temp_inputs = np.ones((7, 256, 64))\n",
    "\n",
    "temp_FEM_out = temp_FEM(temp_inputs, training=True)\n",
    "print(\"temp_FEM_out[0].shape \", temp_FEM_out[0].shape)\n",
    "print(\"temp_FEM_out[1].shape \", temp_FEM_out[1].shape)\n",
    "\n",
    "print(\"temp_HCM.input_shape \", temp_HCM.input_shape)\n",
    "temp_FEM.count_params()"
   ]
  },
  {
   "cell_type": "markdown",
   "id": "6c3f6d9b",
   "metadata": {},
   "source": [
    "# Optimizer, Loss and Metrics"
   ]
  },
  {
   "cell_type": "code",
   "execution_count": 13,
   "id": "f3f9074d",
   "metadata": {
    "ExecuteTime": {
     "end_time": "2023-10-26T13:52:56.422535Z",
     "start_time": "2023-10-26T13:52:56.380341Z"
    }
   },
   "outputs": [
    {
     "data": {
      "text/plain": [
       "(<tf.Tensor: shape=(), dtype=float64, numpy=65.55555555555556>,\n",
       " <tf.Tensor: shape=(), dtype=float64, numpy=72.22222222222221>,\n",
       " <tf.Tensor: shape=(), dtype=float64, numpy=66.66666666666666>)"
      ]
     },
     "execution_count": 13,
     "metadata": {},
     "output_type": "execute_result"
    }
   ],
   "source": [
    "import tensorflow as tf\n",
    "\n",
    "\n",
    "def get_macro_F1(y_true, y_pred, cls_num):\n",
    "    \"\"\"多分类的Macro F1 的计算，\n",
    "    在这里，y_true是真实标签，y_pred是预测标签。\n",
    "    注意：y_true, y_true均是普通数字标签而不是onehot格式\n",
    "    （如若有3类的话，为【0，1，2】，不是【【1，0，0】，【0，1，0】，【0，0，1】】）\n",
    "    \"\"\"\n",
    "    y_true = tf.cast(y_true, dtype=tf.int32)\n",
    "    y_pred = tf.cast(y_pred, dtype=tf.int32)\n",
    "\n",
    "    # calculate per-class precision, recall, and F1\n",
    "    precisions = []\n",
    "    recalls = []\n",
    "    f1s = []\n",
    "\n",
    "    # loop over each class\n",
    "    for class_idx in range(cls_num):\n",
    "        # convert y_true and y_pred to binary arrays for the current class\n",
    "        class_true = tf.equal(y_true, class_idx)\n",
    "        class_pred = tf.equal(y_pred, class_idx)\n",
    "\n",
    "        # count true positive, false positive, and false negative for the class\n",
    "        true_positives = tf.reduce_sum(\n",
    "            tf.cast(tf.math.logical_and(class_true, class_pred), tf.int32)\n",
    "        )\n",
    "        false_positives = tf.reduce_sum(\n",
    "            tf.cast(\n",
    "                tf.math.logical_and(tf.math.logical_not(class_true), class_pred),\n",
    "                tf.int32,\n",
    "            )\n",
    "        )\n",
    "        false_negatives = tf.reduce_sum(\n",
    "            tf.cast(\n",
    "                tf.math.logical_and(class_true, tf.math.logical_not(class_pred)),\n",
    "                tf.int32,\n",
    "            )\n",
    "        )\n",
    "\n",
    "        # calculate precision, recall, and F1 for the class\n",
    "        precision = (\n",
    "            true_positives / (true_positives + false_positives)\n",
    "            if (true_positives + false_positives) != 0\n",
    "            else 0\n",
    "        )\n",
    "        recall = (\n",
    "            true_positives / (true_positives + false_negatives)\n",
    "            if (true_positives + false_negatives) != 0\n",
    "            else 0\n",
    "        )\n",
    "        f1 = (\n",
    "            2 * precision * recall / (precision + recall)\n",
    "            if (precision + recall) != 0\n",
    "            else 0\n",
    "        )\n",
    "\n",
    "        precisions.append(precision)\n",
    "        recalls.append(recall)\n",
    "        f1s.append(f1)\n",
    "\n",
    "    #     print([i.numpy() for i in f1s])\n",
    "    # calculate macro-average F1 score\n",
    "    macro_precisions = tf.reduce_mean(precisions) * 100\n",
    "    macro_recalls = tf.reduce_mean(recalls) * 100\n",
    "    macro_f1s = tf.reduce_mean(f1s) * 100\n",
    "    return macro_f1s, macro_precisions, macro_recalls\n",
    "\n",
    "\n",
    "y_true = [0, 1, 2, 0, 1, 2]\n",
    "y_pred = [0, 1, 2, 0, 0, 1]\n",
    "\n",
    "# count number of classes\n",
    "cls_num = 3\n",
    "\n",
    "macro_f1s, macro_precisions, macro_recalls = get_macro_F1(y_true, y_pred, cls_num)\n",
    "macro_f1s, macro_precisions, macro_recalls"
   ]
  },
  {
   "cell_type": "code",
   "execution_count": 14,
   "id": "188b6735",
   "metadata": {
    "ExecuteTime": {
     "end_time": "2023-10-26T13:52:57.137385Z",
     "start_time": "2023-10-26T13:52:57.100177Z"
    }
   },
   "outputs": [],
   "source": [
    "\"\"\"这里定义的LOSS和METRIC都是全局变量，\n",
    "尤其是 METRIC ，每次需要从零开始时需要 reset_metrics\n",
    "\"\"\"\n",
    "optimizer = tf.keras.optimizers.Adam(0.0005)\n",
    "\n",
    "metric_name_list = [\"CE\", \"MSE\", \"Acc(%)\", \"F1(%)\", \"P(%)\", \"R(%)\"]\n",
    "\n",
    "# 交叉熵损失函数用来是衡量 预测误差\n",
    "CE_loss = tf.keras.losses.SparseCategoricalCrossentropy(from_logits=True)\n",
    "MSE_loss = tf.keras.losses.MeanSquaredError()\n",
    "\n",
    "# train_step 中 loss 在求梯度时已经算过了，所以只需要把求得的loss记录即可, 但 acc 需要单独计算\n",
    "train_CE_metric = tf.keras.metrics.Mean(name=\"train_CE_metric\")\n",
    "train_MSE_metric = tf.keras.metrics.Mean(name=\"train_MSE_metric\")\n",
    "train_ACC_metric = tf.keras.metrics.SparseCategoricalAccuracy(name=\"train_ACC_metric\")\n",
    "train_F1_metric = tf.keras.metrics.Mean(name=\"train_F1_metric\")\n",
    "train_P_metric = tf.keras.metrics.Mean(name=\"train_P_metric\")\n",
    "train_R_metric = tf.keras.metrics.Mean(name=\"train_R_metric\")\n",
    "\n",
    "\n",
    "# test_step 中， 需要 单独计算 loss 和 acc\n",
    "test_CE_metric = tf.keras.metrics.Mean(name=\"test_CE_metric\")\n",
    "test_MSE_metric = tf.keras.metrics.Mean(name=\"test_MSE_metric\")\n",
    "test_ACC_metric = tf.keras.metrics.SparseCategoricalAccuracy(name=\"test_ACC_metric\")\n",
    "test_F1_metric = tf.keras.metrics.Mean(name=\"test_F1_metric\")\n",
    "test_P_metric = tf.keras.metrics.Mean(name=\"test_P_metric\")\n",
    "test_R_metric = tf.keras.metrics.Mean(name=\"test_R_metric\")\n",
    "\n",
    "\n",
    "#  train metrics\n",
    "def reset_train_metrics():\n",
    "    train_CE_metric.reset_state()  # 训练 健康分类器的交叉熵\n",
    "    train_MSE_metric.reset_state()  # 训练 自编码器的MSE\n",
    "    train_ACC_metric.reset_state()  # 训练 健康分类器的准确率\n",
    "    train_F1_metric.reset_state()  # 训练 健康分类器的 F1\n",
    "    train_P_metric.reset_state()  # 训练 健康分类器的 P\n",
    "    train_R_metric.reset_state()  # 训练 健康分类器的 R\n",
    "\n",
    "\n",
    "def get_train_metrics_result():\n",
    "    CE = train_CE_metric.result().numpy()\n",
    "    MSE = train_MSE_metric.result().numpy()\n",
    "    ACC = train_ACC_metric.result().numpy() * 100\n",
    "    F1 = train_F1_metric.result().numpy()\n",
    "    Pr = train_P_metric.result().numpy()\n",
    "    Re = train_R_metric.result().numpy()\n",
    "    return [CE, MSE, ACC, F1, Pr, Re]\n",
    "\n",
    "\n",
    "#  test metrics\n",
    "def reset_test_metrics():\n",
    "    test_CE_metric.reset_state()  # 测试 健康分类器的交叉熵\n",
    "    test_MSE_metric.reset_state()  # 测试 自编码器的MSE\n",
    "    test_ACC_metric.reset_state()  # 测试 健康分类器的准确率\n",
    "    test_F1_metric.reset_state()  # 测试 健康分类器的 F1\n",
    "    test_P_metric.reset_state()  # 测试 健康分类器的 P\n",
    "    test_R_metric.reset_state()  # 测试 健康分类器的 R\n",
    "\n",
    "\n",
    "def get_test_metrics_result():\n",
    "    CE = test_CE_metric.result().numpy()\n",
    "    MSE = test_MSE_metric.result().numpy()\n",
    "    ACC = test_ACC_metric.result().numpy() * 100\n",
    "    F1 = test_F1_metric.result().numpy()\n",
    "    Pr = test_P_metric.result().numpy()\n",
    "    Re = test_R_metric.result().numpy()\n",
    "    return [CE, MSE, ACC, F1, Pr, Re]"
   ]
  },
  {
   "cell_type": "markdown",
   "id": "5a658b8d",
   "metadata": {},
   "source": [
    "# train_step and test_step"
   ]
  },
  {
   "cell_type": "code",
   "execution_count": 15,
   "id": "b50c442b",
   "metadata": {
    "ExecuteTime": {
     "end_time": "2023-10-26T13:53:00.066755Z",
     "start_time": "2023-10-26T13:52:58.707989Z"
    },
    "scrolled": false
   },
   "outputs": [
    {
     "name": "stdout",
     "output_type": "stream",
     "text": [
      "Train number =   128, Test number =   512\n",
      "Counter({3: 16, 6: 16, 1: 16, 5: 16, 0: 16, 2: 16, 7: 16, 4: 16}) Counter({5: 64, 3: 64, 7: 64, 6: 64, 4: 64, 1: 64, 0: 64, 2: 64}) 4.0\n",
      "traXs.shape,  traYs.shape, traYs[:10]\t\t(128, 256, 64)\t(128,)\t[3 6 3 1 5 0 3 1 1 5]\n",
      "tesXs.shape,  tesYs.shape, tesYs[:10]\t\t(512, 256, 64)\t(512,)\t[5 3 7 7 5 7 5 3 6 5]\n",
      "tra_bX.shape, tra_bY.shape, tra_bY.numpy()[:10]\t(64, 256, 64)\t(64,)\t[2 3 0 1 2 1 4 3 5 0]\n",
      "tes_bX.shape, tes_bY.shape, tes_bY.numpy()[:10]\t(64, 256, 64)\t(64,)\t[5 2 3 6 5 2 3 2 2 4]\n",
      "Dataset OK!!!!!!!!!!!!!!!!!!!!!!!!!!!!!!!! \n",
      "\n",
      "\n",
      "GGGGGGGGGGGGGGGet Modellllllllllll \n",
      " FEM_name=AET,   CLS_NUM=10,  need_BA=None\n",
      "    \n",
      "\n",
      "                  # 输入 2D信号 的参数\n",
      "                  cwt_data                \t = \t True,\n",
      "                  cwt_shape               \t = \t (256, 64),\n",
      "                  cwt_patch               \t = \t (8, 8),\n",
      "                  cwt_embedding_way       \t = \t Linear,\n",
      "                  \n",
      "                  # 输入 1D信号 的参数\n",
      "                  sig_data                \t = \t False,\n",
      "                  sig_shape               \t = \t (2048, 1),\n",
      "                  sig_patch               \t = \t (64,),\n",
      "                  sig_embedding_way       \t = \t Linear,\n",
      "    \n",
      "                  # Transformer的参数\n",
      "                  positional_encoding_way \t = \t trainable,\n",
      "                  num_layers              \t = \t 6,\n",
      "                  cls_token               \t = \t True,\n",
      "                  \n",
      "                  # Encoder_Layer 的参数\n",
      "                  d_model                 \t = \t 64,\n",
      "                  num_heads               \t = \t 4,\n",
      "                  rate                    \t = \t 0.1,  \n",
      "                  \n",
      "                  cwt_position_num        \t = \t 256,\n",
      "                  sig_position_num        \t = \t 0,\n",
      "                  num_positions           \t = \t 257,\n",
      "                  out_shape               \t = \t (None, 64)\n",
      "                  \n",
      "basic FEM  is  AET \t feature_dim =  64\n",
      "(64, 256, 64) (64,)\n",
      "CE\tMSE\tAcc(%)\tF1(%)\tP(%)\tR(%)\t\n",
      "2.67\t0.00\t12.50\t4.41\t4.02\t7.50\t\n",
      "2.29\t0.00\t18.75\t3.16\t1.88\t10.00\t\n"
     ]
    }
   ],
   "source": [
    "\"\"\"2023-2-6\n",
    "一个  tf.GradientTape()  监督多个子模型的可训练变量，\n",
    "模型里面的每个张量，都是以列表的格式存储，\n",
    "因此两个模型的张量梯度列表可以串联起来，\n",
    "然后，对合起来的张量列表里的每个张量求一次梯度，\n",
    "得到每个张量的梯度列表，\n",
    "最后 根据梯度列表，给每个张量更新参数\n",
    "\"\"\"\n",
    "\n",
    "\n",
    "def train_step(X, Y, models, w_ce=1.0, w_mse=0.0):\n",
    "    # print('X.shape, Y.shape',    X.shape, Y.shape, )\n",
    "    FEM, HCM = models\n",
    "    noise = np.random.normal(loc=0.0, scale=0.5, size=X.shape)\n",
    "    X = X + noise\n",
    "    with tf.GradientTape() as tape:\n",
    "        if FEM.name == \"AET\":\n",
    "            F = FEM(X, training=True)\n",
    "            # XRC, F = FEM(X, training=True)\n",
    "            P = HCM(F, training=True)\n",
    "            # print('X.shape, Y.shape, F.shape, P.shape',X.shape, Y.shape, F.shape, P.shape  )\n",
    "            ce = CE_loss(y_true=Y, y_pred=P)\n",
    "            # mse = MSE_loss(y_true=X, y_pred=XRC)\n",
    "            mse = 0\n",
    "            loss = w_ce * ce + w_mse * mse\n",
    "\n",
    "        else:\n",
    "            F = FEM(X, training=True)  # 提取的 特征          (bs, dim)\n",
    "            P = HCM(F, training=True)  # 预测 健康状态        (bs, 10)\n",
    "            ce = CE_loss(y_true=Y, y_pred=P)\n",
    "            mse = 0.0\n",
    "            loss = ce\n",
    "\n",
    "    trainable_variables = FEM.trainable_variables + HCM.trainable_variables\n",
    "    # FEM.trainable_variables 以列表的形式存储模型里的每个可训练参数\n",
    "    gradients = tape.gradient(loss, trainable_variables)\n",
    "    optimizer.apply_gradients(zip(gradients, trainable_variables))\n",
    "\n",
    "    P_argmax = tf.argmax(P, axis=-1)\n",
    "    cls_num = tf.shape(P)[-1]\n",
    "    F1, Pr, Re = get_macro_F1(y_true=Y, y_pred=P_argmax, cls_num=cls_num)\n",
    "\n",
    "    train_CE_metric.update_state(ce)\n",
    "    train_MSE_metric.update_state(mse)\n",
    "    train_ACC_metric.update_state(y_true=Y, y_pred=P)\n",
    "    train_F1_metric.update_state(F1)\n",
    "    train_P_metric.update_state(Pr)\n",
    "    train_R_metric.update_state(Re)\n",
    "    return (FEM, HCM)\n",
    "\n",
    "\n",
    "def test_step(X, Y, models):\n",
    "    FEM, HCM = models\n",
    "\n",
    "    if FEM.name == \"AET\":\n",
    "        # XRC, F = FEM(X, training=False)\n",
    "        F = FEM(X, training=False)\n",
    "        P = HCM(F, training=False)\n",
    "        # print('X.shape, Y.shape, F.shape, P.shape',X.shape, Y.shape, F.shape, P.shape  )\n",
    "        ce = CE_loss(y_true=Y, y_pred=P)\n",
    "        # mse = MSE_loss(y_true=X, y_pred=XRC)\n",
    "        mse = 0\n",
    "\n",
    "    else:\n",
    "        F = FEM(X, training=False)  # 提取的 特征          (bs, dim)\n",
    "        P = HCM(F, training=False)  # 预测 健康状态        (bs, 10)\n",
    "        ce = CE_loss(y_true=Y, y_pred=P)\n",
    "        mse = 0.0\n",
    "\n",
    "    P_argmax = tf.argmax(P, axis=-1)\n",
    "    cls_num = tf.shape(P)[-1]\n",
    "    F1, Pr, Re = get_macro_F1(y_true=Y, y_pred=P_argmax, cls_num=cls_num)\n",
    "\n",
    "    test_CE_metric.update_state(ce)\n",
    "    test_MSE_metric.update_state(mse)\n",
    "    test_ACC_metric.update_state(y_true=Y, y_pred=P)\n",
    "    test_F1_metric.update_state(F1)\n",
    "    test_P_metric.update_state(Pr)\n",
    "    test_R_metric.update_state(Re)\n",
    "    return\n",
    "\n",
    "\n",
    "(traXs, tesXs, traYs, tesYs), (tra_ds, tes_ds), CLS_NUM = get_batch_from_path(\n",
    "    file_type=\"png\", strides=10\n",
    ")\n",
    "temp_models = get_model(\n",
    "    FEM_name=\"AET\",\n",
    "    CLS_NUM=CLS_NUM,\n",
    ")\n",
    "\n",
    "bX, bY = next(iter(tra_ds))\n",
    "\n",
    "print(bX.shape, bY.shape)\n",
    "train_step(X=bX, Y=bY, models=temp_models)\n",
    "test_step(X=bX, Y=bY, models=temp_models)\n",
    "\n",
    "\n",
    "def print_log(\n",
    "    metric_results,\n",
    "    need_show_metric_name=False,\n",
    "    metric_names=metric_name_list,\n",
    "):\n",
    "    if need_show_metric_name:\n",
    "        [print(\"{}\".format(i), end=\"\\t\") for i in metric_names]\n",
    "        print()\n",
    "    [print(\"{:.2f}\".format(i), end=\"\\t\") for i in metric_results]\n",
    "    print()\n",
    "    return\n",
    "\n",
    "\n",
    "print_log(get_train_metrics_result(), True)\n",
    "print_log(get_test_metrics_result(), False)"
   ]
  },
  {
   "cell_type": "markdown",
   "id": "51137aba",
   "metadata": {},
   "source": [
    "# train_model"
   ]
  },
  {
   "cell_type": "code",
   "execution_count": 16,
   "id": "6a068f35",
   "metadata": {
    "ExecuteTime": {
     "end_time": "2023-10-26T13:53:01.023562Z",
     "start_time": "2023-10-26T13:53:00.683221Z"
    }
   },
   "outputs": [
    {
     "data": {
      "image/png": "[encoded data removed]",
      "text/plain": [
       "<Figure size 200x100 with 1 Axes>"
      ]
     },
     "metadata": {},
     "output_type": "display_data"
    }
   ],
   "source": [
    "# epoch 等设置为全局变量，就不用每次都传参了\n",
    "epochs = np.arange(100)\n",
    "weight_ce = 1 - 0.5 * np.sqrt(epochs / 100)\n",
    "weight_mse = 0.5 + 0.5 * np.exp(-epochs / 32)\n",
    "\n",
    "plt.figure(figsize=(2, 1), dpi=100)\n",
    "plt.plot(epochs, weight_ce, \"-\", label=\"$W_{CE}$\")\n",
    "plt.plot(epochs, weight_mse, \"--\", label=\"$W_{MSE}$\")\n",
    "plt.legend(\n",
    "    ncol=2,\n",
    "    loc=\"lower center\",\n",
    "    bbox_to_anchor=(0.50, 1.0),\n",
    ")\n",
    "plt.xlabel(\"Epochs\")\n",
    "plt.ylabel(\"Weights\")\n",
    "plt.savefig(\"weights.png\", dpi=600, bbox_inches=\"tight\")"
   ]
  },
  {
   "cell_type": "code",
   "execution_count": 17,
   "id": "51ca607f",
   "metadata": {
    "ExecuteTime": {
     "end_time": "2023-10-26T13:53:01.565457Z",
     "start_time": "2023-10-26T13:53:01.556152Z"
    }
   },
   "outputs": [
    {
     "data": {
      "text/plain": [
       "(100,)"
      ]
     },
     "execution_count": 17,
     "metadata": {},
     "output_type": "execute_result"
    }
   ],
   "source": [
    "weight_ce.shape"
   ]
  },
  {
   "cell_type": "code",
   "execution_count": 18,
   "id": "a10f2171",
   "metadata": {
    "ExecuteTime": {
     "end_time": "2023-10-26T13:53:10.030804Z",
     "start_time": "2023-10-26T13:53:02.077274Z"
    },
    "scrolled": true
   },
   "outputs": [
    {
     "name": "stdout",
     "output_type": "stream",
     "text": [
      "Train number =   640, Test number =   640\n",
      "Counter({0: 80, 2: 80, 6: 80, 7: 80, 1: 80, 5: 80, 4: 80, 3: 80}) Counter({6: 80, 0: 80, 3: 80, 4: 80, 1: 80, 7: 80, 2: 80, 5: 80}) 1.0\n",
      "traXs.shape,  traYs.shape, traYs[:10]\t\t(640, 256, 64)\t(640,)\t[0 2 6 7 1 1 5 4 0 3]\n",
      "tesXs.shape,  tesYs.shape, tesYs[:10]\t\t(640, 256, 64)\t(640,)\t[6 0 3 4 6 4 1 7 2 7]\n",
      "tra_bX.shape, tra_bY.shape, tra_bY.numpy()[:10]\t(64, 256, 64)\t(64,)\t[5 5 1 6 7 1 0 1 4 0]\n",
      "tes_bX.shape, tes_bY.shape, tes_bY.numpy()[:10]\t(64, 256, 64)\t(64,)\t[3 6 4 1 4 5 3 3 0 2]\n",
      "Dataset OK!!!!!!!!!!!!!!!!!!!!!!!!!!!!!!!! \n",
      "\n",
      "\n",
      "GGGGGGGGGGGGGGGet Modellllllllllll \n",
      " FEM_name=AET,   CLS_NUM=10,  need_BA=None\n",
      "    \n",
      "\n",
      "                  # 输入 2D信号 的参数\n",
      "                  cwt_data                \t = \t True,\n",
      "                  cwt_shape               \t = \t (256, 64),\n",
      "                  cwt_patch               \t = \t (8, 8),\n",
      "                  cwt_embedding_way       \t = \t Linear,\n",
      "                  \n",
      "                  # 输入 1D信号 的参数\n",
      "                  sig_data                \t = \t False,\n",
      "                  sig_shape               \t = \t (2048, 1),\n",
      "                  sig_patch               \t = \t (64,),\n",
      "                  sig_embedding_way       \t = \t Linear,\n",
      "    \n",
      "                  # Transformer的参数\n",
      "                  positional_encoding_way \t = \t trainable,\n",
      "                  num_layers              \t = \t 6,\n",
      "                  cls_token               \t = \t True,\n",
      "                  \n",
      "                  # Encoder_Layer 的参数\n",
      "                  d_model                 \t = \t 64,\n",
      "                  num_heads               \t = \t 4,\n",
      "                  rate                    \t = \t 0.1,  \n",
      "                  \n",
      "                  cwt_position_num        \t = \t 256,\n",
      "                  sig_position_num        \t = \t 0,\n",
      "                  num_positions           \t = \t 257,\n",
      "                  out_shape               \t = \t (None, 64)\n",
      "                  \n",
      "basic FEM  is  AET \t feature_dim =  64\n",
      "train_model 开始了 !!!!!!!!!!!!!!!!!!!!!!!!!!!!!!!!!!!!!!!!!!!!!!!!!!!!!!!!!!!!!!!!!!!!!!!!!!!!!!!!!!!!!!!!!!!!!!!!!!!!\n",
      "CE\tMSE\tAcc(%)\tF1(%)\tP(%)\tR(%)\t\n",
      "2.78\t0.00\t14.06\t7.91\t16.38\t11.78\t\n",
      "2.54\t0.00\t12.50\t2.22\t1.25\t10.00\t\n",
      "Epoch:   0, \t\t Epoch time:     0.53\n",
      "\n",
      "CE\tMSE\tAcc(%)\tF1(%)\tP(%)\tR(%)\t\n",
      "2.17\t0.00\t17.19\t6.89\t15.10\t12.58\t\n",
      "2.23\t0.00\t10.94\t1.97\t1.09\t10.00\t\n",
      "Epoch:  10, \t\t Epoch time:     0.31\n",
      "\n",
      "CE\tMSE\tAcc(%)\tF1(%)\tP(%)\tR(%)\t\n",
      "2.24\t0.00\t6.25\t4.34\t4.53\t5.92\t\n",
      "2.14\t0.00\t14.06\t2.50\t1.43\t10.00\t\n",
      "Epoch:  20, \t\t Epoch time:     0.29\n",
      "\n",
      "CE\tMSE\tAcc(%)\tF1(%)\tP(%)\tR(%)\t\n",
      "2.16\t0.00\t9.38\t8.66\t13.09\t8.75\t\n",
      "2.10\t0.00\t26.56\t4.20\t2.66\t10.00\t\n",
      "Epoch:  30, \t\t Epoch time:     0.29\n",
      "\n",
      "CE\tMSE\tAcc(%)\tF1(%)\tP(%)\tR(%)\t\n",
      "2.17\t0.00\t9.38\t7.31\t8.05\t10.32\t\n",
      "2.12\t0.00\t10.94\t1.97\t1.09\t10.00\t\n",
      "Epoch:  40, \t\t Epoch time:     0.29\n",
      "\n",
      "CE\tMSE\tAcc(%)\tF1(%)\tP(%)\tR(%)\t\n",
      "2.10\t0.00\t15.62\t11.78\t17.77\t13.89\t\n",
      "2.14\t0.00\t10.94\t1.97\t1.09\t10.00\t\n",
      "Epoch:  50, \t\t Epoch time:     0.31\n",
      "\n",
      "CE\tMSE\tAcc(%)\tF1(%)\tP(%)\tR(%)\t\n",
      "2.15\t0.00\t14.06\t8.39\t10.89\t11.82\t\n",
      "2.07\t0.00\t10.94\t1.97\t1.09\t10.00\t\n",
      "Epoch:  60, \t\t Epoch time:     0.29\n",
      "\n",
      "CE\tMSE\tAcc(%)\tF1(%)\tP(%)\tR(%)\t\n",
      "2.10\t0.00\t14.06\t11.45\t18.26\t12.46\t\n",
      "2.11\t0.00\t6.25\t1.19\t0.63\t10.00\t\n",
      "Epoch:  70, \t\t Epoch time:     0.29\n",
      "\n",
      "CE\tMSE\tAcc(%)\tF1(%)\tP(%)\tR(%)\t\n",
      "2.11\t0.00\t9.38\t7.73\t17.12\t8.94\t\n",
      "2.10\t0.00\t12.50\t2.22\t1.25\t10.00\t\n",
      "Epoch:  80, \t\t Epoch time:     0.31\n",
      "\n",
      "CE\tMSE\tAcc(%)\tF1(%)\tP(%)\tR(%)\t\n",
      "2.13\t0.00\t6.25\t4.15\t5.94\t7.16\t\n",
      "2.09\t0.00\t10.94\t1.97\t1.09\t10.00\t\n",
      "Epoch:  90, \t\t Epoch time:     0.31\n",
      "\n",
      "CE\tMSE\tAcc(%)\tF1(%)\tP(%)\tR(%)\t\n",
      "2.11\t0.00\t9.38\t4.31\t2.99\t8.79\t\n",
      "2.05\t0.00\t21.88\t3.59\t2.19\t10.00\t\n",
      "Epoch:  99, \t\t Epoch time:     0.30\n",
      "\n",
      "Train_model time:    29.99\n",
      "train_model 结束了 !!!!!!!!!!!!!!!!!!!!!!!!!!!!!!!!!!!!!!!!!!!!!!!!!!!!!!!!!!!!!!!!!!!!!!!!!!!!!!!!!!!!!!!!!!!!!!!!!!!!\n"
     ]
    }
   ],
   "source": [
    "def train_model(\n",
    "    tra_ds,\n",
    "    tes_ds,\n",
    "    models,\n",
    "    epoch_num=100,\n",
    "    steps_per_epoch=10,\n",
    "    val_steps_per_epoch=1,\n",
    "    info=None,\n",
    "):\n",
    "    \"\"\"从随机初始化的模型开始训练，直到模型收敛\"\"\"\n",
    "    train_model_start_time = time.time()\n",
    "    print(\"train_model 开始了\", \"!\" * 100)\n",
    "    tra_ds_iter, tes_ds_iter = iter(tra_ds), iter(tes_ds)\n",
    "\n",
    "    assert epoch_num <= len(weight_ce)\n",
    "\n",
    "    tra_tes_metric_logs = []\n",
    "    for epoch in range(epoch_num):\n",
    "        epoch_start_time = time.time()\n",
    "        reset_train_metrics()  # 重置多个metric的观测器\n",
    "        reset_test_metrics()  # 重置多个metric的观测器\n",
    "\n",
    "        \"\"\"---------Training------------------\"\"\"\n",
    "        for step in range(steps_per_epoch):\n",
    "            bX, bY = next(tra_ds_iter)\n",
    "            models = train_step(\n",
    "                X=bX,\n",
    "                Y=bY,\n",
    "                models=models,\n",
    "                w_ce=weight_ce[epoch],\n",
    "                w_mse=weight_mse[epoch],\n",
    "            )\n",
    "\n",
    "        \"\"\"----------Testing-------------------\"\"\"\n",
    "        for step in range(val_steps_per_epoch):\n",
    "            bX, bY = next(tes_ds_iter)\n",
    "            test_step(X=bX, Y=bY, models=models)  # 对验证集的测试\n",
    "\n",
    "        \"\"\"----------Metrics-------------------\"\"\"\n",
    "        tra_metrics = get_train_metrics_result()\n",
    "        tes_metrics = get_test_metrics_result()\n",
    "        tra_tes_metric_logs.append(tra_metrics + tes_metrics)\n",
    "\n",
    "        \"\"\"----------Print-------------------\"\"\"\n",
    "        if epoch % 10 == 0 or epoch + 1 == epoch_num:\n",
    "            #         if epoch%q==0 :\n",
    "            cinfo = \"\\t traN={}, \\ttesN={}, \\t w_ce={:.2f}, \\t w_mse={:.2f}\".format(\n",
    "                steps_per_epoch,\n",
    "                val_steps_per_epoch,\n",
    "                weight_ce[epoch],\n",
    "                weight_mse[epoch],\n",
    "            )\n",
    "            if info is not None:\n",
    "                print(info, cinfo)\n",
    "            print_log(tra_metrics, True)\n",
    "            print_log(tes_metrics, False)\n",
    "            print(\n",
    "                \"Epoch:{:4d}, \\t\\t Epoch time: {:>8.2f}\\n\".format(\n",
    "                    epoch, time.time() - epoch_start_time\n",
    "                )\n",
    "            )\n",
    "\n",
    "    tra_tes_metric_logs = np.array(tra_tes_metric_logs)  # [max_epoch,  4]\n",
    "    print(\"Train_model time: {:>8.2f}\".format(time.time() - train_model_start_time))\n",
    "    print(\"train_model 结束了\", \"!\" * 100)\n",
    "    return models, tra_tes_metric_logs\n",
    "\n",
    "\n",
    "(traXs, tesXs, traYs, tesYs), (tra_ds, tes_ds), CLS_NUM = get_batch_from_path(\n",
    "    file_type=\"png\",\n",
    "    strides=5,\n",
    "    train_rate=0.5,\n",
    "    seed=19960103,\n",
    ")\n",
    "temp_models = get_model(\n",
    "    FEM_name=\"AET\",\n",
    "    CLS_NUM=CLS_NUM,\n",
    ")\n",
    "\n",
    "models, tra_tes_metric_logs = train_model(\n",
    "    tra_ds,\n",
    "    tes_ds,\n",
    "    temp_models,\n",
    "    epoch_num=100,\n",
    "    steps_per_epoch=1,\n",
    "    val_steps_per_epoch=1,\n",
    "    info=None,\n",
    ")"
   ]
  },
  {
   "cell_type": "markdown",
   "id": "edcd6f44",
   "metadata": {},
   "source": [
    "# 训练\n",
    "\n",
    "## Weights、LOG、RESULT"
   ]
  },
  {
   "cell_type": "code",
   "execution_count": 19,
   "id": "6d1d53bb",
   "metadata": {
    "ExecuteTime": {
     "end_time": "2023-10-26T13:53:15.442103Z",
     "start_time": "2023-10-26T13:53:15.283188Z"
    }
   },
   "outputs": [
    {
     "name": "stdout",
     "output_type": "stream",
     "text": [
      "---------------------------------------------------------------------------------------------------- \n",
      "训练的最后10Epoch的平均Metrics.\n",
      "        tra CE  tra MSE  tra Accuracy(%)  tra F1(%)  tra Precision(%)  \\\n",
      "mean  2.112446      0.0          12.1875   8.167162          9.357184   \n",
      "50%   2.117488      0.0          10.9375   7.626044          7.220238   \n",
      "\n",
      "      tra Recall(%)    val CE  val MSE  val Accuracy(%)  val F1(%)  \\\n",
      "mean      11.391819  2.083997      0.0         14.53125   2.936658   \n",
      "50%        9.558442  2.087927      0.0         14.84375   2.822599   \n",
      "\n",
      "      val Precision(%)  val Recall(%)  \n",
      "mean          1.849571      10.272727  \n",
      "50%           1.643689      10.000000  \n",
      "训练的最后10Epoch的平均Metrics.\n",
      " ----------------------------------------------------------------------------------------------------\n"
     ]
    }
   ],
   "source": [
    "def save_weights_and_log():\n",
    "    FEM, HCM = models\n",
    "\n",
    "    \"\"\"存储模型权重\"\"\"\n",
    "    item = save_path + get_date() + dta_R_date\n",
    "    for model in models:\n",
    "        model_save_path = item + model.name + \".h5\"\n",
    "        model.save_weights(model_save_path)\n",
    "        model.load_weights(model_save_path)\n",
    "\n",
    "    \"\"\"训练日志\"\"\"\n",
    "    metric_names = [\"CE\", \"MSE\", \"Accuracy(%)\", \"F1(%)\", \"Precision(%)\", \"Recall(%)\"]\n",
    "    columns = [\"tra \" + i for i in metric_names] + [\"val \" + i for i in metric_names]\n",
    "\n",
    "    log_df = pd.DataFrame(tra_tes_metric_logs, columns=columns)\n",
    "    log_path = save_path + get_date() + dta_R_date + \"LOG.csv\"\n",
    "    log_df.to_csv(log_path, index=False)\n",
    "\n",
    "    print(\"-\" * 100, \"\\n训练的最后10Epoch的平均Metrics.\")\n",
    "    print(log_df.iloc[-10:,].describe().loc[[\"mean\", \"50%\"]])\n",
    "    print(\"训练的最后10Epoch的平均Metrics.\\n\", \"-\" * 100)\n",
    "    return log_df, log_path\n",
    "\n",
    "\n",
    "try:\n",
    "    log_df, log_path = save_weights_and_log()\n",
    "except:\n",
    "    print(\"error\")\n",
    "\n",
    "\n",
    "def save_test_result(item=\"\"):\n",
    "    \"\"\"最终的测试结果\"\"\"\n",
    "    tra_CE = tf.keras.metrics.SparseCategoricalCrossentropy(from_logits=True)(\n",
    "        y_true=traYs, y_pred=traPs\n",
    "    )\n",
    "    tra_AC = (\n",
    "        tf.keras.metrics.SparseCategoricalAccuracy()(y_true=traYs, y_pred=traPs) * 100\n",
    "    )\n",
    "    traF1, traP, traR = get_macro_F1(y_true=traYs, y_pred=traPargM, cls_num=CLS_NUM)\n",
    "\n",
    "    tes_CE = tf.keras.metrics.SparseCategoricalCrossentropy(from_logits=True)(\n",
    "        y_true=tesYs, y_pred=tesPs\n",
    "    )\n",
    "    tes_AC = (\n",
    "        tf.keras.metrics.SparseCategoricalAccuracy()(y_true=tesYs, y_pred=tesPs) * 100\n",
    "    )\n",
    "    tesF1, tesP, tesR = get_macro_F1(y_true=tesYs, y_pred=tesPargM, cls_num=CLS_NUM)\n",
    "\n",
    "    final_result = [\n",
    "        [\n",
    "            item.numpy()\n",
    "            for item in [\n",
    "                tra_CE,\n",
    "                tra_AC,\n",
    "                traF1,\n",
    "                traP,\n",
    "                traR,\n",
    "                tes_CE,\n",
    "                tes_AC,\n",
    "                tesF1,\n",
    "                tesP,\n",
    "                tesR,\n",
    "            ]\n",
    "        ]\n",
    "    ]\n",
    "    result_names = [\n",
    "        \"tra CE\",\n",
    "        \"tra AC\",\n",
    "        \"tra F1\",\n",
    "        \"tra P\",\n",
    "        \"tra R\",\n",
    "        \"tes CE\",\n",
    "        \"tes AC\",\n",
    "        \"tes F1\",\n",
    "        \"tes P\",\n",
    "        \"tes R\",\n",
    "    ]\n",
    "\n",
    "    final_result_df = pd.DataFrame(data=final_result, columns=result_names)\n",
    "\n",
    "    path = save_path + get_date() + dta_R_date + item + \"Final_Result.csv\"\n",
    "    final_result_df.to_csv(path, index=False)\n",
    "\n",
    "    print(\"=\" * 100, \"\\n在训练集和测试集上的最终测试结果.\\n\")\n",
    "    print(final_result_df)\n",
    "    print(\"在训练集和测试集上的最终测试结果.\\n\", \"=\" * 100)\n",
    "\n",
    "    return final_result_df"
   ]
  },
  {
   "cell_type": "markdown",
   "id": "799e8775",
   "metadata": {},
   "source": [
    "## Metrics curve"
   ]
  },
  {
   "cell_type": "code",
   "execution_count": 20,
   "id": "b879d656",
   "metadata": {
    "ExecuteTime": {
     "end_time": "2023-10-26T13:53:17.807795Z",
     "start_time": "2023-10-26T13:53:16.579626Z"
    },
    "scrolled": true
   },
   "outputs": [
    {
     "data": {
      "image/png": "[encoded data removed]",
      "text/plain": [
       "<Figure size 300x225 with 1 Axes>"
      ]
     },
     "metadata": {},
     "output_type": "display_data"
    },
    {
     "data": {
      "image/png": "[encoded data removed]",
      "text/plain": [
       "<Figure size 300x225 with 1 Axes>"
      ]
     },
     "metadata": {},
     "output_type": "display_data"
    },
    {
     "data": {
      "image/png": "[encoded data removed]",
      "text/plain": [
       "<Figure size 300x225 with 1 Axes>"
      ]
     },
     "metadata": {},
     "output_type": "display_data"
    },
    {
     "data": {
      "image/png": "[encoded data removed]",
      "text/plain": [
       "<Figure size 300x225 with 1 Axes>"
      ]
     },
     "metadata": {},
     "output_type": "display_data"
    },
    {
     "data": {
      "image/png": "[encoded data removed]",
      "text/plain": [
       "<Figure size 300x225 with 1 Axes>"
      ]
     },
     "metadata": {},
     "output_type": "display_data"
    },
    {
     "data": {
      "image/png": "[encoded data removed]",
      "text/plain": [
       "<Figure size 300x225 with 1 Axes>"
      ]
     },
     "metadata": {},
     "output_type": "display_data"
    }
   ],
   "source": [
    "def plot_metrics_curve(df, metrics, need_tra=True, need_save=True):\n",
    "    \"\"\"画出n个metrics的曲线图，metrics必须是list\n",
    "    metric_names = ['SHCE','SHAC',  'THCE','THAC',  'SSC','SDC',  'DCE','DAC','DCS']\n",
    "    \"\"\"\n",
    "    assert isinstance(metrics, list)\n",
    "    assert len(metrics) in [1, 2]\n",
    "    if \"CE\" in str(metrics):\n",
    "        assert len(metrics) == 1\n",
    "\n",
    "    plt.subplots(\n",
    "        figsize=[2, 1.5],\n",
    "    )\n",
    "    colors = [\n",
    "        \"#FF9671\",\n",
    "        \"b\",\n",
    "        \"#008E9B\",\n",
    "        \"r\",\n",
    "    ]\n",
    "    for mi, metric in enumerate(metrics):\n",
    "        if need_tra:\n",
    "            plt.plot(\n",
    "                df[\"tra \" + metric],\n",
    "                label=\"Train\",\n",
    "                linewidth=1,\n",
    "                color=colors[mi * 2 + 0],\n",
    "                alpha=0.7,\n",
    "            )  # 训练曲线\n",
    "        plt.plot(\n",
    "            df[\"val \" + metric],\n",
    "            label=\"Test\",\n",
    "            linewidth=1,\n",
    "            color=colors[mi * 2 + 1],\n",
    "            alpha=1.0,\n",
    "        )  # 验证曲线\n",
    "\n",
    "    if need_tra:\n",
    "        plt.legend(\n",
    "            ncol=2,\n",
    "            loc=\"lower center\",\n",
    "            bbox_to_anchor=(0.50, 1.02),  # legend的坐标原点与坐标原点的相对坐标\n",
    "        )\n",
    "\n",
    "    plt.grid(True, linestyle=\"--\", which=\"major\", color=\"grey\", alpha=0.2)\n",
    "    plt.grid(True, linestyle=\"-.\", which=\"major\", color=\"grey\", alpha=0.5)\n",
    "\n",
    "    if \"E\" in str(metrics):\n",
    "        #         plt.yticks(ticks=np.arange(0, 2,    4)  )\n",
    "        plt.xlabel(xlabel=\"Epochs\")\n",
    "        plt.ylabel(ylabel=metrics[0])\n",
    "    else:\n",
    "        plt.yticks(np.arange(0, 105, 25))\n",
    "        plt.xlabel(xlabel=\"Epochs\")\n",
    "        plt.ylabel(ylabel=metrics[0])\n",
    "\n",
    "    if need_save:\n",
    "        path = save_path + get_date() + dta_R_date + str(metrics)\n",
    "        plt.savefig(path + \".png\", bbox_inches=\"tight\")\n",
    "    #         plt.savefig(path + '.svg',  bbox_inches ='tight')\n",
    "    plt.show()\n",
    "    return\n",
    "\n",
    "\n",
    "try:\n",
    "    plot_metrics_curve(df=log_df, metrics=[\"CE\"])\n",
    "    plot_metrics_curve(df=log_df, metrics=[\"MSE\"])\n",
    "    plot_metrics_curve(df=log_df, metrics=[\"Accuracy(%)\"])\n",
    "    plot_metrics_curve(df=log_df, metrics=[\"F1(%)\"])\n",
    "    plot_metrics_curve(df=log_df, metrics=[\"Precision(%)\"])\n",
    "    plot_metrics_curve(df=log_df, metrics=[\"Recall(%)\"])\n",
    "except:\n",
    "    print(\"没数据\")"
   ]
  },
  {
   "cell_type": "markdown",
   "id": "01628993",
   "metadata": {},
   "source": [
    "## Feature、Logits、Attention weights"
   ]
  },
  {
   "cell_type": "code",
   "execution_count": 21,
   "id": "d3e525a7",
   "metadata": {
    "ExecuteTime": {
     "end_time": "2023-10-26T13:53:25.426373Z",
     "start_time": "2023-10-26T13:53:18.022913Z"
    },
    "scrolled": false
   },
   "outputs": [
    {
     "name": "stdout",
     "output_type": "stream",
     "text": [
      "Train number =   256, Test number =  1024\n",
      "Counter({6: 32, 2: 32, 4: 32, 0: 32, 5: 32, 1: 32, 3: 32, 7: 32}) Counter({6: 128, 0: 128, 5: 128, 7: 128, 3: 128, 2: 128, 4: 128, 1: 128}) 4.0\n",
      "traXs.shape,  traYs.shape, traYs[:10]\t\t(256, 256, 64)\t(256,)\t[6 2 4 0 5 0 1 4 0 4]\n",
      "tesXs.shape,  tesYs.shape, tesYs[:10]\t\t(1024, 256, 64)\t(1024,)\t[6 0 5 7 0 3 2 4 0 0]\n",
      "tra_bX.shape, tra_bY.shape, tra_bY.numpy()[:10]\t(64, 256, 64)\t(64,)\t[3 0 6 7 2 1 5 4 0 3]\n",
      "tes_bX.shape, tes_bY.shape, tes_bY.numpy()[:10]\t(64, 256, 64)\t(64,)\t[2 7 2 3 2 0 5 4 3 0]\n",
      "Dataset OK!!!!!!!!!!!!!!!!!!!!!!!!!!!!!!!! \n",
      "\n",
      "\n",
      "GGGGGGGGGGGGGGGet Modellllllllllll \n",
      " FEM_name=AET,   CLS_NUM=10,  need_BA=None\n",
      "    \n",
      "\n",
      "                  # 输入 2D信号 的参数\n",
      "                  cwt_data                \t = \t True,\n",
      "                  cwt_shape               \t = \t (256, 64),\n",
      "                  cwt_patch               \t = \t (8, 8),\n",
      "                  cwt_embedding_way       \t = \t Linear,\n",
      "                  \n",
      "                  # 输入 1D信号 的参数\n",
      "                  sig_data                \t = \t False,\n",
      "                  sig_shape               \t = \t (2048, 1),\n",
      "                  sig_patch               \t = \t (64,),\n",
      "                  sig_embedding_way       \t = \t Linear,\n",
      "    \n",
      "                  # Transformer的参数\n",
      "                  positional_encoding_way \t = \t trainable,\n",
      "                  num_layers              \t = \t 6,\n",
      "                  cls_token               \t = \t True,\n",
      "                  \n",
      "                  # Encoder_Layer 的参数\n",
      "                  d_model                 \t = \t 64,\n",
      "                  num_heads               \t = \t 4,\n",
      "                  rate                    \t = \t 0.1,  \n",
      "                  \n",
      "                  cwt_position_num        \t = \t 256,\n",
      "                  sig_position_num        \t = \t 0,\n",
      "                  num_positions           \t = \t 257,\n",
      "                  out_shape               \t = \t (None, 64)\n",
      "                  \n",
      "basic FEM  is  AET \t feature_dim =  64\n",
      "(64, 64) (64, 10) dict_keys(['pos_layer_0', 'pos_layer_1', 'pos_layer_2', 'pos_layer_3', 'pos_layer_4', 'pos_layer_5'])\n",
      "输入了 256样本,\t 测试时每 100个样本一个batch @  3\n",
      "Last batch: (56, 64) (56, 10)\n",
      "输入了1024样本,\t 测试时每 100个样本一个batch @  11\n",
      "Last batch: (24, 64) (24, 10)\n",
      "traFs.shape, traPs.shape, traPargM.shape (256, 64) (256, 10) (256,)\n",
      "tesFs.shape, tesPs.shape, traPargM.shape (1024, 64) (1024, 10) (256,)\n"
     ]
    }
   ],
   "source": [
    "def get_features_AW_and_P_of_one_batch(models, bXs):\n",
    "    \"\"\"直接把所有样本都送进FEM来提特征时，数据量太大会内存溢出,\n",
    "    由于 AW 太占内存了，所以只存储 1 batch 的AW，并返回\n",
    "    \"\"\"\n",
    "    \"\"\" 输入一个batch的数据，返回一个batch的features，AW，P\n",
    "    Xs.shape=【bs，pos, depth】，\"\"\"\n",
    "    assert len(bXs) <= 100  # 输入数据太多时，可能会内存不够\n",
    "    #     print(type(bXs), bXs.shape)\n",
    "    FEM, HCM = models\n",
    "\n",
    "    if FEM.name in [\"ST\", \"NET\", \"AET\"]:\n",
    "        bFs, bAWs = FEM(bXs, training=False, need_w=True)\n",
    "        if FEM.name == \"AET\":\n",
    "            bFs = bFs\n",
    "    else:\n",
    "        bFs = FEM(bXs, training=False)  # 提取的 特征          (bs, dim)\n",
    "        bAWs = {\"No Data\": np.zeros((1))}  # 用于占位\n",
    "\n",
    "    bPs = HCM(\n",
    "        bFs, training=False\n",
    "    )  # 预测 健康状态        (bs, 256，256，4)  feat6，feat7，out8\n",
    "    # print(bFs.shape, bPs.shape, BAWs.keys())\n",
    "    return bFs, bPs, bAWs\n",
    "\n",
    "\n",
    "def get_whole_FP(models, Xs, bs=100, need_save=True):\n",
    "    batch_num = int(np.ceil(len(Xs) / bs))\n",
    "    print(\n",
    "        \"输入了{:4d}样本,\\t 测试时每{:4d}个样本一个batch @ \".format(len(Xs), bs),\n",
    "        batch_num,\n",
    "    )\n",
    "    all_Fs = []\n",
    "    all_Ps = []\n",
    "    for i in range(batch_num):\n",
    "        bXs = Xs[i * bs : (i + 1) * bs]\n",
    "        bFs, bPs, bAWs = get_features_AW_and_P_of_one_batch(\n",
    "            models=models,\n",
    "            bXs=bXs,\n",
    "        )\n",
    "        all_Fs.append(bFs)\n",
    "        all_Ps.append(bPs)\n",
    "    print(\"Last batch:\", bFs.shape, bPs.shape)\n",
    "    all_Fs = tf.concat(all_Fs, axis=0).numpy()\n",
    "    all_Ps = tf.concat(all_Ps, axis=0).numpy()\n",
    "    all_P_after_arg_max = tf.argmax(all_Ps, axis=-1).numpy()\n",
    "\n",
    "    ### 保存成CSV\n",
    "    if need_save:\n",
    "        Fs_df_columns = [\"f_{}\".format(i) for i in range(all_Fs.shape[-1])]\n",
    "        Fs_df = pd.DataFrame(data=all_Fs, columns=Fs_df_columns)\n",
    "        path = save_path + get_date() + dta_R_date + \"Features.csv\"\n",
    "        Fs_df.to_csv(path, index=False)\n",
    "\n",
    "        Ps_df_columns = [\"p_{}\".format(i) for i in range(all_Ps.shape[-1])]\n",
    "        Fs_df = pd.DataFrame(data=all_Ps, columns=Ps_df_columns)\n",
    "        path = save_path + get_date() + dta_R_date + \"Logits.csv\"\n",
    "        Fs_df.to_csv(path, index=False)\n",
    "\n",
    "    return all_Fs, all_Ps, all_P_after_arg_max\n",
    "\n",
    "\n",
    "(traXs, tesXs, traYs, tesYs), (tra_ds, tes_ds), CLS_NUM = get_batch_from_path(\n",
    "    file_type=\"png\",\n",
    "    strides=5,\n",
    "    train_rate=0.2,\n",
    "    seed=19960103,\n",
    ")\n",
    "\n",
    "bX, bY = next(iter(tra_ds))\n",
    "temp_models = get_model(\n",
    "    FEM_name=\"AET\",\n",
    "    CLS_NUM=CLS_NUM,\n",
    ")\n",
    "\n",
    "\n",
    "bFs, bPs, bAWs = get_features_AW_and_P_of_one_batch(\n",
    "    models=temp_models,\n",
    "    bXs=bX,\n",
    ")\n",
    "print(bFs.shape, bPs.shape, bAWs.keys())\n",
    "\n",
    "\n",
    "traFs, traPs, traPargM = get_whole_FP(models=temp_models, Xs=traXs, need_save=False)\n",
    "tesFs, tesPs, tesPargM = get_whole_FP(\n",
    "    models=temp_models, Xs=tesXs, need_save=True\n",
    ")  # 仅保存测试集上的结果\n",
    "\n",
    "print(\n",
    "    \"traFs.shape, traPs.shape, traPargM.shape\", traFs.shape, traPs.shape, traPargM.shape\n",
    ")\n",
    "print(\n",
    "    \"tesFs.shape, tesPs.shape, traPargM.shape\", tesFs.shape, tesPs.shape, traPargM.shape\n",
    ")"
   ]
  },
  {
   "cell_type": "markdown",
   "id": "93e47a13",
   "metadata": {
    "ExecuteTime": {
     "end_time": "2022-09-16T01:01:20.429262Z",
     "start_time": "2022-09-16T01:01:20.403332Z"
    }
   },
   "source": [
    "## Confusion matrix"
   ]
  },
  {
   "cell_type": "code",
   "execution_count": 22,
   "id": "da3e93a3",
   "metadata": {
    "ExecuteTime": {
     "end_time": "2023-10-26T13:53:27.185169Z",
     "start_time": "2023-10-26T13:53:25.522404Z"
    }
   },
   "outputs": [
    {
     "name": "stdout",
     "output_type": "stream",
     "text": [
      "plot_confusion_matrix 入口： \t (256,) (256,)\n"
     ]
    },
    {
     "data": {
      "image/png": "[encoded data removed]",
      "text/plain": [
       "<Figure size 450x390 with 2 Axes>"
      ]
     },
     "metadata": {},
     "output_type": "display_data"
    },
    {
     "name": "stdout",
     "output_type": "stream",
     "text": [
      "plot_confusion_matrix 入口： \t (1024,) (1024,)\n"
     ]
    },
    {
     "data": {
      "image/png": "[encoded data removed]",
      "text/plain": [
       "<Figure size 450x390 with 2 Axes>"
      ]
     },
     "metadata": {},
     "output_type": "display_data"
    }
   ],
   "source": [
    "def plot_confusion_matrix(y_true, y_pred, class_num, item=None, need_save=True):\n",
    "    print(\"plot_confusion_matrix 入口： \\t\", y_true.shape, y_pred.shape)\n",
    "    assert np.max(y_true) < class_num\n",
    "    assert np.max(y_pred) < class_num\n",
    "\n",
    "    cm = confusion_matrix(y_true, y_pred)\n",
    "    #     print(cm)\n",
    "\n",
    "    tick_names = Health_status\n",
    "    tick_names = tick_names[:class_num]\n",
    "    plt.figure(figsize=(3.0, 2.6))\n",
    "    sns.heatmap(\n",
    "        data=cm,\n",
    "        fmt=\".0f\",\n",
    "        annot=True,\n",
    "        annot_kws={\"size\": 9},\n",
    "        cmap=\"Blues\",  # Greys  Blues Greens Reds\n",
    "        linewidths=0.1,\n",
    "        linecolor=\"gray\",\n",
    "    )\n",
    "\n",
    "    xlocations = np.array(range(class_num)) + 0.5\n",
    "    plt.ylabel(\"True label\")\n",
    "    plt.xlabel(\"Predicted label\")\n",
    "\n",
    "    plt.xticks(\n",
    "        ticks=np.arange(class_num) + 0.5,\n",
    "        labels=tick_names,\n",
    "        rotation=0,\n",
    "    )\n",
    "    plt.yticks(\n",
    "        ticks=np.arange(class_num) + 0.5,\n",
    "        labels=tick_names,\n",
    "        rotation=0,\n",
    "    )\n",
    "\n",
    "    plt.gca().xaxis.set_ticks_position(\"none\")  # 屏蔽掉坐标轴的刻度线\n",
    "    plt.gca().yaxis.set_ticks_position(\"none\")\n",
    "    if need_save:\n",
    "        path = save_path + get_date() + dta_R_date + item + \"Confusion_Matrix\"\n",
    "        #         plt.savefig(path  + '.svg', bbox_inches ='tight')\n",
    "        plt.savefig(path + \".png\", bbox_inches=\"tight\")\n",
    "    plt.show()\n",
    "    return\n",
    "\n",
    "\n",
    "# print('-'*100, target_Y.shape, target_hc_label_P.shape, target_Y, target_hc_label_P)\n",
    "plot_confusion_matrix(\n",
    "    y_true=traYs, y_pred=traPargM, class_num=CLS_NUM, item=\"tra\", need_save=True\n",
    ")\n",
    "\n",
    "plot_confusion_matrix(\n",
    "    y_true=tesYs, y_pred=tesPargM, class_num=CLS_NUM, item=\"tes\", need_save=True\n",
    ")"
   ]
  }
 ],
 "metadata": {
  "kernelspec": {
   "display_name": "Python 3 (ipykernel)",
   "language": "python",
   "name": "python3"
  },
  "language_info": {
   "codemirror_mode": {
    "name": "ipython",
    "version": 3
   },
   "file_extension": ".py",
   "mimetype": "text/x-python",
   "name": "python",
   "nbconvert_exporter": "python",
   "pygments_lexer": "ipython3",
   "version": "3.9.18"
  },
  "latex_envs": {
   "LaTeX_envs_menu_present": true,
   "autoclose": false,
   "autocomplete": true,
   "bibliofile": "biblio.bib",
   "cite_by": "apalike",
   "current_citInitial": 1,
   "eqLabelWithNumbers": true,
   "eqNumInitial": 1,
   "hotkeys": {
    "equation": "Ctrl-E",
    "itemize": "Ctrl-I"
   },
   "labels_anchors": false,
   "latex_user_defs": false,
   "report_style_numbering": false,
   "user_envs_cfg": false
  },
  "toc": {
   "base_numbering": 1,
   "nav_menu": {},
   "number_sections": true,
   "sideBar": true,
   "skip_h1_title": false,
   "title_cell": "Table of Contents",
   "title_sidebar": "Contents",
   "toc_cell": false,
   "toc_position": {
    "height": "calc(100% - 180px)",
    "left": "10px",
    "top": "150px",
    "width": "348px"
   },
   "toc_section_display": true,
   "toc_window_display": true
  },
  "varInspector": {
   "cols": {
    "lenName": 16,
    "lenType": 16,
    "lenVar": 40
   },
   "kernels_config": {
    "python": {
     "delete_cmd_postfix": "",
     "delete_cmd_prefix": "del ",
     "library": "var_list.py",
     "varRefreshCmd": "print(var_dic_list())"
    },
    "r": {
     "delete_cmd_postfix": ") ",
     "delete_cmd_prefix": "rm(",
     "library": "var_list.r",
     "varRefreshCmd": "cat(var_dic_list()) "
    }
   },
   "types_to_exclude": [
    "module",
    "function",
    "builtin_function_or_method",
    "instance",
    "_Feature"
   ],
   "window_display": false
  }
 },
 "nbformat": 4,
 "nbformat_minor": 5
}
